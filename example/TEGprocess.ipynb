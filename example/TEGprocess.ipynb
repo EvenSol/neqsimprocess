{
  "nbformat": 4,
  "nbformat_minor": 0,
  "metadata": {
    "colab": {
      "name": "TEGprocess.ipynb",
      "provenance": [],
      "collapsed_sections": []
    },
    "kernelspec": {
      "name": "python3",
      "display_name": "Python 3"
    }
  },
  "cells": [
    {
      "cell_type": "code",
      "metadata": {
        "id": "HBts2gY2T3Ev",
        "colab_type": "code",
        "colab": {}
      },
      "source": [
        "# Setting up the Colab page to use neqsim\n",
        "%%capture\n",
        "!pip install neqsim\n",
        "from neqsim.process import openprocess\n",
        "import urllib\n",
        "\n",
        "# Importing the TEG process from file\n",
        "!wget https://github.com/equinor/neqsimprocess/raw/master/lib/TEGprocess.neqsim"
      ],
      "execution_count": 3,
      "outputs": []
    },
    {
      "cell_type": "code",
      "metadata": {
        "id": "k5HkAboVUMr9",
        "colab_type": "code",
        "colab": {}
      },
      "source": [
        "# importing the process from the stored file\n",
        "# See: https://github.com/equinor/neqsimprocess/blob/master/src/neqsimprocess/glycol/TEGprocess.java\n",
        "TEGprocess = openprocess('TEGprocess.neqsim')"
      ],
      "execution_count": 2,
      "outputs": []
    },
    {
      "cell_type": "code",
      "metadata": {
        "id": "AlrFDKW9Ymtc",
        "colab_type": "code",
        "colab": {
          "base_uri": "https://localhost:8080/",
          "height": 34
        },
        "outputId": "38cf23dc-be09-4344-a46f-1b315c174222"
      },
      "source": [
        "# Set input parameters\n",
        "TEGprocess.getUnit(\"dry feed gas\").setTemperature(30.2, 'C')\n",
        "TEGprocess.getUnit(\"dry feed gas\").setPressure(52.21, \"bara\")\n",
        "TEGprocess.getUnit(\"lean TEG to absorber\").setFlowRate(6100.0, \"kg/hr\")\n",
        "TEGprocess.getUnit(\"lean TEG cooler\").setOutTemperature(273.15 + 44.85)\n",
        "TEGprocess.getUnit(\"rich TEG preheater\").setOutTemperature(273.15 + 38.5)\n",
        "TEGprocess.getUnit(\"Rich TEG HP flash valve\").setOutletPressure(4.9)\n",
        "TEGprocess.getUnit(\"rich TEG heater HP\").setOutTemperature(273.15 + 62.0)\n",
        "TEGprocess.getUnit(\"LP rich glycol heater\").setOutTemperature(273.15 + 139.0)\n",
        "TEGprocess.getUnit(\"LP rich glycol heater\").setOutPressure(1.23)\n",
        "TEGprocess.getUnit(\"TEG regeneration column\").getReboiler().setOutTemperature(273.15 + 206.6)\n",
        "TEGprocess.getUnit(\"stripGas\").setPressure(1.23, \"bara\")\n",
        "TEGprocess.getUnit(\"stripGas\").setFlowRate(61.88, \"kg/hr\")\n",
        "TEGprocess.getUnit(\"stripGas\").setTemperature(80.0, 'C')\n",
        "TEGprocess.getUnit(\"lean TEG resycle\").getOutletStream().setFlowRate(5500.0, \"kg/hr\")\n",
        "\n",
        "#Run the process calculations\n"
      ],
      "execution_count": 4,
      "outputs": [
        {
          "output_type": "execute_result",
          "data": {
            "text/plain": [
              "JavaObject id=o18"
            ]
          },
          "metadata": {
            "tags": []
          },
          "execution_count": 4
        }
      ]
    },
    {
      "cell_type": "code",
      "metadata": {
        "id": "o2rHuSjKYvNC",
        "colab_type": "code",
        "colab": {}
      },
      "source": [
        "#Run the process calcs \n",
        "TEGprocess.runAsThread() "
      ],
      "execution_count": null,
      "outputs": []
    },
    {
      "cell_type": "code",
      "metadata": {
        "id": "Eo5NOkFiYrea",
        "colab_type": "code",
        "colab": {}
      },
      "source": [
        "#Read results\n",
        "wetGasRatekghr = TEGprocess.getUnit(\"water saturated feed gas\").getFlowRate(\"kg/hr\")\n",
        "waterInWetGasppm = TEGprocess.getUnit(\"water saturated feed gas\").getFluid().getPhase(0).getComponent('water').getz()*1.0e6\n",
        "waterInDryGasppm = TEGprocess.getUnit(\"dry gas from absorber\").getFluid().getPhase(0).getComponent('water').getz()*1.0e6\n",
        "waterInWetGaskgMSm3 = waterInWetGasppm*0.01802*101325.0/(8.314*288.15)\n",
        "waterInDryGaskgMSm3 = waterInDryGasppm*0.01802*101325.0/(8.314*288.15)\n",
        "wtLeanTEGFromReboiler = TEGprocess.getUnit(\"TEG regeneration column\").getLiquidOutStream().getFluid().getPhase(\"aqueous\").getWtFrac(\"TEG\")*100.0\n",
        "wtLeanTEGFromStripper = TEGprocess.getUnit(\"TEG stripper\").getSolventOutStream().getFluid().getPhase(\"aqueous\").getWtFrac(\"TEG\")*100.0\n",
        "reboilerdutykW = TEGprocess.getUnit(\"TEG regeneration column\").getReboiler().getDuty()/1.0e3\n",
        "condenserdutykW = TEGprocess.getUnit(\"TEG regeneration column\").getCondenser().getDuty()/1.0e3\n",
        "glycolheaterdutykW = TEGprocess.getUnit(\"rich TEG preheater\").getDuty()/1.0e3\n",
        "condensertemperature= TEGprocess.getUnit(\"TEG regeneration column\").getCondenser().getTemperature()-273.15\n",
        "reboilertemperature= TEGprocess.getUnit(\"TEG regeneration column\").getReboiler().getTemperature()-273.15\n",
        "TEGmakeupkghr = TEGprocess.getUnit(\"gas to flare\").getFluid().getPhase(0).getComponent(\"TEG\").getFlowRate(\"kg/sec\")*3600.0 + TEGprocess.getUnit(\"dry gas from absorber\").getFluid().getPhase(0).getComponent(\"TEG\").getFlowRate(\"kg/sec\")*3600.0 + + TEGprocess.getUnit(\"gas from degasing separator\").getFluid().getPhase(0).getComponent(\"TEG\").getFlowRate(\"kg/sec\")*3600.0\n",
        "leanTEGflow = TEGprocess.getUnit(\"TEG absorber\").getSolventInStream().getFlowRate(\"kg/hr\")\n",
        "richTEGflow = TEGprocess.getUnit(\"TEG absorber\").getSolventOutStream().getFlowRate(\"kg/hr\")\n",
        "pump1DutykW = TEGprocess.getUnit(\"hot lean TEG pump\").getEnergy()/1.0e3\n",
        "pump2DutykW = TEGprocess.getUnit(\"lean TEG HP pump\").getEnergy()/1.0e3\n",
        "flashGasRate = TEGprocess.getUnit(\"gas from degasing separator\").getFlowRate(\"kg/hr\")\n",
        "gasToFLareRatekghr = TEGprocess.getUnit(\"gas to flare\").getFlowRate(\"kg/hr\")"
      ],
      "execution_count": 5,
      "outputs": []
    },
    {
      "cell_type": "code",
      "metadata": {
        "id": "gDB0AfueY3bq",
        "colab_type": "code",
        "colab": {
          "base_uri": "https://localhost:8080/",
          "height": 340
        },
        "outputId": "60cf9178-9212-4746-b7d6-dbc4a1bba996"
      },
      "source": [
        "# Print results\n",
        "print('Wet gas rate ', wetGasRatekghr, ' kg/hr')\n",
        "print('Water in wet gas ', waterInWetGasppm, ' ppm (mol)')\n",
        "print('Water in dry gas ', waterInDryGasppm, ' ppm (mol)')\n",
        "print('Water in wet gas ', waterInWetGasppm, ' kg/MSm3')\n",
        "print('Water in dry gas ', waterInDryGasppm, ' kg/MSm3')\n",
        "print('wt% TEG from reboiler ', wtLeanTEGFromReboiler, ' wt%')\n",
        "print('wt% TEG from stripper ', wtLeanTEGFromStripper, ' wt%')\n",
        "print('Reboiler duty ', reboilerdutykW, ' kW')\n",
        "print('Condenser duty ', condenserdutykW, ' kW')\n",
        "print('rich TEG preheater duty ', glycolheaterdutykW, ' kW')\n",
        "print('temperature from condeser ', condensertemperature, ' C')\n",
        "print('temperature from reboiler ', reboilertemperature, ' C')\n",
        "print('TEG makeup ', TEGmakeupkghr, ' kg/hr')\n",
        "print('lean TEG flow ', leanTEGflow, ' kg/hr')\n",
        "print('rich TEG flow ', richTEGflow, ' kg/hr')\n",
        "print('hot lean TEG pump duty ', pump1DutykW, ' kW')\n",
        "print('lean TEG HP pump duty ', pump2DutykW, ' kW')\n",
        "print('gas from degasing separator ', flashGasRate, ' kg/hr')\n",
        "print('gas to flare ', gasToFLareRatekghr, ' kg/hr')"
      ],
      "execution_count": 17,
      "outputs": [
        {
          "output_type": "stream",
          "text": [
            "Wet gas rate  390005.21878668887  kg/hr\n",
            "Water in wet gas  985.3925168003435  ppm (mol)\n",
            "Water in dry gas  20.18409207246586  ppm (mol)\n",
            "Water in wet gas  985.3925168003435  kg/MSm3\n",
            "Water in dry gas  20.18409207246586  kg/MSm3\n",
            "wt% TEG from reboiler  99.08693991287107  wt%\n",
            "wt% TEG from stripper  99.86589889281198  wt%\n",
            "Reboiler duty  486.38261510087045  kW\n",
            "Condenser duty  -15.838138855344711  kW\n",
            "rich TEG preheater duty  24.454996889898435  kW\n",
            "temperature from condeser  104.47344838203458  C\n",
            "temperature from reboiler  206.60000000000002  C\n",
            "TEG makeup  0.20739230424968966  kg/hr\n",
            "lean TEG flow  5499.999999999998  kg/hr\n",
            "rich TEG flow  5925.4904620936195  kg/hr\n",
            "hot lean TEG pump duty  2.475936301446869  kW\n",
            "lean TEG HP pump duty  5.068892282067099  kW\n",
            "gas from degasing separator  41.36640981023671  kg/hr\n",
            "gas to flare  147.60234913643382  kg/hr\n"
          ],
          "name": "stdout"
        }
      ]
    }
  ]
}